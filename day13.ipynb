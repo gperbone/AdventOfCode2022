{
 "cells": [
  {
   "cell_type": "code",
   "execution_count": 135,
   "metadata": {},
   "outputs": [],
   "source": [
    "import ast\n",
    "\n",
    "with open(\"data/day13.txt\") as f:\n",
    "    lines = f.read().splitlines()\n",
    "\n",
    "lines = [ast.literal_eval(line) for line in lines if line != \"\"]"
   ]
  },
  {
   "cell_type": "code",
   "execution_count": 136,
   "metadata": {},
   "outputs": [],
   "source": [
    "def compare(left: list, right: list) -> bool:\n",
    "    for i in range(max(len(left), len(right))):\n",
    "        if i == len(left):\n",
    "            return True\n",
    "        \n",
    "        if i == len(right):\n",
    "            return False\n",
    "\n",
    "        if type(left[i]) is int and type(right[i]) is int:\n",
    "            if left[i] is not right[i]:\n",
    "                return left[i] < right[i]\n",
    "        else:\n",
    "            result = compare(left[i] if type(left[i]) is list else [left[i]], right[i] if type(right[i]) is list else [right[i]])\n",
    "            \n",
    "            if result != None:\n",
    "             return result\n"
   ]
  },
  {
   "cell_type": "code",
   "execution_count": 137,
   "metadata": {},
   "outputs": [
    {
     "data": {
      "text/plain": [
       "5198.0"
      ]
     },
     "execution_count": 137,
     "metadata": {},
     "output_type": "execute_result"
    }
   ],
   "source": [
    "sum_indexes = 0\n",
    "for i in range(0, len(lines), 2):\n",
    "    result = i/2 + 1 if compare(lines[i], lines[i+1]) else 0\n",
    "    sum_indexes += result\n",
    "sum_indexes\n"
   ]
  },
  {
   "attachments": {},
   "cell_type": "markdown",
   "metadata": {},
   "source": [
    "# Part 2"
   ]
  },
  {
   "cell_type": "code",
   "execution_count": 138,
   "metadata": {},
   "outputs": [],
   "source": [
    "def compare_key(left: list, right: list) -> bool:\n",
    "    for i in range(max(len(left), len(right))):\n",
    "        if i == len(left):\n",
    "            return -1\n",
    "        \n",
    "        if i == len(right):\n",
    "            return 1\n",
    "\n",
    "        if type(left[i]) is int and type(right[i]) is int:\n",
    "            if left[i] is not right[i]:\n",
    "                return 1 if left[i] > right[i] else -1\n",
    "        else:\n",
    "            result = compare(left[i] if type(left[i]) is list else [left[i]], right[i] if type(right[i]) is list else [right[i]])\n",
    "            \n",
    "            if result != None:\n",
    "             return -1 if result else 1\n",
    "# -1 if a<b\n",
    "# 1 if a > b"
   ]
  },
  {
   "cell_type": "code",
   "execution_count": 139,
   "metadata": {},
   "outputs": [],
   "source": [
    "from functools import cmp_to_key\n",
    "\n",
    "data = sorted(lines+[[[2]],[[6]]], key=cmp_to_key(compare_key))"
   ]
  },
  {
   "cell_type": "code",
   "execution_count": 140,
   "metadata": {},
   "outputs": [
    {
     "name": "stdout",
     "output_type": "stream",
     "text": [
      "22344\n"
     ]
    }
   ],
   "source": [
    "print((data.index([[2]])+1) * (data.index([[6]])+1))"
   ]
  }
 ],
 "metadata": {
  "kernelspec": {
   "display_name": "base",
   "language": "python",
   "name": "python3"
  },
  "language_info": {
   "codemirror_mode": {
    "name": "ipython",
    "version": 3
   },
   "file_extension": ".py",
   "mimetype": "text/x-python",
   "name": "python",
   "nbconvert_exporter": "python",
   "pygments_lexer": "ipython3",
   "version": "3.9.12"
  },
  "orig_nbformat": 4,
  "vscode": {
   "interpreter": {
    "hash": "cea1ecbc9060237308d6f43d2a8f2f7ecb9842b1b44e6cce898a5c7b51f4cadd"
   }
  }
 },
 "nbformat": 4,
 "nbformat_minor": 2
}
