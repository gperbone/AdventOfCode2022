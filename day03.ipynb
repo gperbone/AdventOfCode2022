{
 "cells": [
  {
   "cell_type": "code",
   "execution_count": 69,
   "metadata": {},
   "outputs": [],
   "source": [
    "import csv\n",
    "values_list = []\n",
    "with open(\"data/day03.csv\", 'r') as file:\n",
    "  csvreader = csv.reader(file)\n",
    "  for row in csvreader:\n",
    "    values_list.append(row[0])\n"
   ]
  },
  {
   "cell_type": "code",
   "execution_count": 80,
   "metadata": {},
   "outputs": [
    {
     "name": "stdout",
     "output_type": "stream",
     "text": [
      "7990\n"
     ]
    }
   ],
   "source": [
    "sum = 0\n",
    "for row in values_list:\n",
    "    middle = int(len(row)/2)\n",
    "    first_half = row[:(middle)]\n",
    "    second_half = row[middle:]\n",
    "    set_intersection = set(first_half).intersection(second_half)\n",
    "    common_letter = ord(set_intersection.pop())\n",
    "    score = common_letter-38 if common_letter in range(65,91) else common_letter-96\n",
    "    sum+=score\n",
    "\n",
    "print(sum)\n",
    "# Lowercase item types a through z have priorities 1 through 26.\n",
    "# Uppercase item types A through Z have priorities 27 through 52."
   ]
  },
  {
   "cell_type": "markdown",
   "metadata": {},
   "source": [
    "# Part 2"
   ]
  },
  {
   "cell_type": "code",
   "execution_count": 85,
   "metadata": {},
   "outputs": [
    {
     "name": "stdout",
     "output_type": "stream",
     "text": [
      "2602\n"
     ]
    }
   ],
   "source": [
    "sum = 0\n",
    "for i in range(0, len(values_list), 3):\n",
    "    first = values_list[i]\n",
    "    second = values_list[i+1]\n",
    "    third = values_list[i+2]\n",
    "    set_intersection = set(first).intersection(second).intersection(third)\n",
    "    common_letter = ord(set_intersection.pop())\n",
    "    score = common_letter-38 if common_letter in range(65,91) else common_letter-96\n",
    "    sum+=score\n",
    "\n",
    "print(sum)"
   ]
  }
 ],
 "metadata": {
  "kernelspec": {
   "display_name": "Python 3.9.12 ('base')",
   "language": "python",
   "name": "python3"
  },
  "language_info": {
   "codemirror_mode": {
    "name": "ipython",
    "version": 3
   },
   "file_extension": ".py",
   "mimetype": "text/x-python",
   "name": "python",
   "nbconvert_exporter": "python",
   "pygments_lexer": "ipython3",
   "version": "3.9.12"
  },
  "orig_nbformat": 4,
  "vscode": {
   "interpreter": {
    "hash": "cea1ecbc9060237308d6f43d2a8f2f7ecb9842b1b44e6cce898a5c7b51f4cadd"
   }
  }
 },
 "nbformat": 4,
 "nbformat_minor": 2
}
