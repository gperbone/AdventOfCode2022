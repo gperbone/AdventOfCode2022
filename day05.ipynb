{
 "cells": [
  {
   "cell_type": "code",
   "execution_count": 107,
   "metadata": {},
   "outputs": [],
   "source": [
    "import csv\n",
    "values_list = []\n",
    "with open(\"data/day05.csv\", 'r') as file:\n",
    "  csvreader = csv.reader(file)\n",
    "  for row in csvreader:\n",
    "    values_list.append(row)\n",
    "\n",
    "stacks={\n",
    "    1: ['Z',  'J',  'N',  'W',  'P',  'S'],\n",
    "    2: ['G',  'S',  'T'],\n",
    "    3: ['V',  'Q',  'R',  'L',  'H'],\n",
    "    4: ['V',  'S',  'T',  'D'],\n",
    "    5: ['Q',  'Z',  'T',  'D',  'B',  'M',  'J'],\n",
    "    6: ['M',  'W',  'T',  'J',  'D',  'C',  'Z',  'L'], \n",
    "    7: ['L',  'P',  'M',  'W',  'G',  'T',  'J'],\n",
    "    8: ['N',  'G',  'M',  'T',  'B',  'F',  'Q',  'H'],\n",
    "    9: ['R',  'D',  'G',  'C',  'P',  'B',  'Q',  'W']\n",
    "}\n",
    "\n",
    "\n",
    "command_list = values_list[10:]\n"
   ]
  },
  {
   "cell_type": "code",
   "execution_count": 108,
   "metadata": {},
   "outputs": [
    {
     "data": {
      "text/plain": [
       "'MQTPGLLDN'"
      ]
     },
     "execution_count": 108,
     "metadata": {},
     "output_type": "execute_result"
    }
   ],
   "source": [
    "for command in command_list:\n",
    "    splits = command[0].split(\" \")\n",
    "    qty = int(splits[1])\n",
    "    origin = int(splits[3])\n",
    "    dest = int(splits[5])\n",
    "\n",
    "    for i in range(qty):\n",
    "        item = stacks[origin].pop()\n",
    "        stacks[dest].append(item)\n",
    "        \n",
    "string = ''\n",
    "for n in range(1,10):\n",
    "    string += stacks[n][-1]\n",
    "string"
   ]
  },
  {
   "cell_type": "markdown",
   "metadata": {},
   "source": [
    "# PART 2"
   ]
  },
  {
   "cell_type": "code",
   "execution_count": 109,
   "metadata": {},
   "outputs": [],
   "source": [
    "import csv\n",
    "values_list = []\n",
    "with open(\"data/day05.csv\", 'r') as file:\n",
    "  csvreader = csv.reader(file)\n",
    "  for row in csvreader:\n",
    "    values_list.append(row)\n",
    "\n",
    "stacks={\n",
    "    1: ['Z',  'J',  'N',  'W',  'P',  'S'],\n",
    "    2: ['G',  'S',  'T'],\n",
    "    3: ['V',  'Q',  'R',  'L',  'H'],\n",
    "    4: ['V',  'S',  'T',  'D'],\n",
    "    5: ['Q',  'Z',  'T',  'D',  'B',  'M',  'J'],\n",
    "    6: ['M',  'W',  'T',  'J',  'D',  'C',  'Z',  'L'], \n",
    "    7: ['L',  'P',  'M',  'W',  'G',  'T',  'J'],\n",
    "    8: ['N',  'G',  'M',  'T',  'B',  'F',  'Q',  'H'],\n",
    "    9: ['R',  'D',  'G',  'C',  'P',  'B',  'Q',  'W']\n",
    "}\n",
    "\n",
    "\n",
    "command_list = values_list[10:]\n"
   ]
  },
  {
   "cell_type": "code",
   "execution_count": 110,
   "metadata": {},
   "outputs": [
    {
     "data": {
      "text/plain": [
       "'LVZPSTTCZ'"
      ]
     },
     "execution_count": 110,
     "metadata": {},
     "output_type": "execute_result"
    }
   ],
   "source": [
    "for command in command_list:\n",
    "    splits = command[0].split(\" \")\n",
    "    qty = int(splits[1])\n",
    "    origin = int(splits[3])\n",
    "    dest = int(splits[5])\n",
    "\n",
    "    item = stacks[origin][-1*(qty):]\n",
    "    stacks[dest]+= item\n",
    "    stacks[origin] = stacks[origin][:(-1*(qty))]\n",
    "\n",
    "string = ''\n",
    "for n in range(1,10):\n",
    "    string += stacks[n][-1]\n",
    "string"
   ]
  }
 ],
 "metadata": {
  "kernelspec": {
   "display_name": "Python 3.9.12 ('base')",
   "language": "python",
   "name": "python3"
  },
  "language_info": {
   "codemirror_mode": {
    "name": "ipython",
    "version": 3
   },
   "file_extension": ".py",
   "mimetype": "text/x-python",
   "name": "python",
   "nbconvert_exporter": "python",
   "pygments_lexer": "ipython3",
   "version": "3.9.12"
  },
  "orig_nbformat": 4,
  "vscode": {
   "interpreter": {
    "hash": "cea1ecbc9060237308d6f43d2a8f2f7ecb9842b1b44e6cce898a5c7b51f4cadd"
   }
  }
 },
 "nbformat": 4,
 "nbformat_minor": 2
}
