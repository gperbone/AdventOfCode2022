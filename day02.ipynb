{
 "cells": [
  {
   "cell_type": "code",
   "execution_count": 6,
   "metadata": {},
   "outputs": [],
   "source": [
    "import csv\n",
    "values_list = []\n",
    "with open(\"data/day02.csv\", 'r') as file:\n",
    "  csvreader = csv.reader(file)\n",
    "  for row in csvreader:\n",
    "    values_list.append(row[0].split(' '))\n"
   ]
  },
  {
   "cell_type": "code",
   "execution_count": 17,
   "metadata": {},
   "outputs": [
    {
     "data": {
      "text/plain": [
       "8392"
      ]
     },
     "execution_count": 17,
     "metadata": {},
     "output_type": "execute_result"
    }
   ],
   "source": [
    "values_list\n",
    "score=0\n",
    "\n",
    "for pair in values_list:\n",
    "    if pair[1] == 'X':\n",
    "        score += 1\n",
    "        if pair[0] == 'A':\n",
    "            score += 3\n",
    "        if pair[0] == 'C':\n",
    "            score += 6\n",
    "    elif pair[1] == 'Y':\n",
    "        score += 2\n",
    "        if pair[0] == 'B':\n",
    "            score += 3\n",
    "        if pair[0] == 'A':\n",
    "            score += 6\n",
    "    elif pair[1] == 'Z':\n",
    "        score += 3\n",
    "        if pair[0] == 'C':\n",
    "            score += 3\n",
    "        if pair[0] == 'B':\n",
    "            score += 6\n",
    "\n",
    "score"
   ]
  },
  {
   "cell_type": "markdown",
   "metadata": {},
   "source": [
    "# PART 2"
   ]
  },
  {
   "cell_type": "code",
   "execution_count": 18,
   "metadata": {},
   "outputs": [
    {
     "data": {
      "text/plain": [
       "10116"
      ]
     },
     "execution_count": 18,
     "metadata": {},
     "output_type": "execute_result"
    }
   ],
   "source": [
    "values_list\n",
    "score=0\n",
    "\n",
    "for pair in values_list:\n",
    "    if pair[1] == 'X': #LOSE\n",
    "        score+=0\n",
    "        if pair[0] == 'A':\n",
    "            score += 3 #SCISSORS\n",
    "        if pair[0] == 'B':\n",
    "            score += 1 #ROCK\n",
    "        if pair[0] == 'C':\n",
    "            score += 2 #PAPER\n",
    "    elif pair[1] == 'Y': #DRAW\n",
    "        score += 3\n",
    "        if pair[0] == 'A':\n",
    "            score += 1\n",
    "        if pair[0] == 'B':\n",
    "            score += 2\n",
    "        if pair[0] == 'C':\n",
    "            score += 3 \n",
    "    elif pair[1] == 'Z': #WIN\n",
    "        score+=6\n",
    "        if pair[0] == 'A':\n",
    "            score += 2 #PAPER\n",
    "        if pair[0] == 'B':\n",
    "            score += 3 #SCISSORS\n",
    "        if pair[0] == 'C':\n",
    "            score += 1 #ROCK\n",
    "\n",
    "score\n",
    "\n",
    "# X LOSE\n",
    "# Y DRAW \n",
    "# Z WIN\n",
    "\n",
    "# A ROCK 1 \n",
    "# B PAPER 2 \n",
    "# C SCISSORS 3"
   ]
  }
 ],
 "metadata": {
  "kernelspec": {
   "display_name": "Python 3.9.12 ('base')",
   "language": "python",
   "name": "python3"
  },
  "language_info": {
   "codemirror_mode": {
    "name": "ipython",
    "version": 3
   },
   "file_extension": ".py",
   "mimetype": "text/x-python",
   "name": "python",
   "nbconvert_exporter": "python",
   "pygments_lexer": "ipython3",
   "version": "3.9.12"
  },
  "orig_nbformat": 4,
  "vscode": {
   "interpreter": {
    "hash": "cea1ecbc9060237308d6f43d2a8f2f7ecb9842b1b44e6cce898a5c7b51f4cadd"
   }
  }
 },
 "nbformat": 4,
 "nbformat_minor": 2
}
