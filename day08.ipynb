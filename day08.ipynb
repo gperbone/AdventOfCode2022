{
 "cells": [
  {
   "cell_type": "code",
   "execution_count": 152,
   "metadata": {},
   "outputs": [],
   "source": [
    "with open(\"data/day08.txt\") as f:\n",
    "    lines = f.read().splitlines()\n"
   ]
  },
  {
   "cell_type": "code",
   "execution_count": 153,
   "metadata": {},
   "outputs": [],
   "source": [
    "import numpy as np\n",
    "\n",
    "grid = [list(i) for i in lines]\n",
    "\n",
    "grid = np.array(grid)"
   ]
  },
  {
   "cell_type": "code",
   "execution_count": 154,
   "metadata": {},
   "outputs": [],
   "source": [
    "def check_visible(i, j):\n",
    "    item = grid[i,j]\n",
    "    left_max = max(grid[i, 0:j])\n",
    "    right_max = max(grid[i, j+1:])\n",
    "    top_max = max(grid[0:i, j])\n",
    "    bottom_max = max(grid[i+1:, j])\n",
    "\n",
    "    if left_max < item or right_max < item or top_max < item or bottom_max < item:\n",
    "        return 1\n",
    "    else:\n",
    "        return 0\n",
    "    "
   ]
  },
  {
   "cell_type": "code",
   "execution_count": 155,
   "metadata": {},
   "outputs": [
    {
     "data": {
      "text/plain": [
       "1787"
      ]
     },
     "execution_count": 155,
     "metadata": {},
     "output_type": "execute_result"
    }
   ],
   "source": [
    "rows = grid.shape[0]\n",
    "columns = grid.shape[1]\n",
    "\n",
    "sum_visible = 2*columns + 2*(rows - 2)\n",
    "\n",
    "for i in range(1, rows-1):\n",
    "    for j in range(1, columns-1):\n",
    "        sum_visible += check_visible(i, j)\n",
    "\n",
    "sum_visible\n"
   ]
  },
  {
   "attachments": {},
   "cell_type": "markdown",
   "metadata": {},
   "source": [
    "# Part 2"
   ]
  },
  {
   "cell_type": "code",
   "execution_count": 156,
   "metadata": {},
   "outputs": [],
   "source": [
    "def scenic_score_calculator(i, j, rows, columns):\n",
    "    item = grid[i,j]\n",
    "\n",
    "    #left\n",
    "    k=j-1\n",
    "    while k >= 0 and grid[i,k] < grid[i,j]:\n",
    "        k -= 1\n",
    "    left_count = (j-k-1) if k == -1 else j-k\n",
    "\n",
    "    #right\n",
    "    k=j+1\n",
    "    while k <= columns-1 and grid[i,k] < grid[i,j]:\n",
    "        k += 1\n",
    "    right_count = (k-j-1) if k == rows else k-j\n",
    "\n",
    "    #top\n",
    "    k=i-1\n",
    "    while k >= 0 and grid[k,j] < grid[i,j]:\n",
    "        k -= 1\n",
    "    top_count = (i-k-1) if k ==-1 else i-k\n",
    "\n",
    "    # bottom\n",
    "    k=i+1\n",
    "    while k <= rows-1 and grid[k,j] < grid[i,j]:\n",
    "        k += 1\n",
    "    bottom_count = (k-i-1) if k == columns else k-i\n",
    "  \n",
    "    return left_count*right_count*top_count*bottom_count\n",
    "    "
   ]
  },
  {
   "cell_type": "code",
   "execution_count": 157,
   "metadata": {},
   "outputs": [
    {
     "data": {
      "text/plain": [
       "440640"
      ]
     },
     "execution_count": 157,
     "metadata": {},
     "output_type": "execute_result"
    }
   ],
   "source": [
    "scenic_score = 0\n",
    "\n",
    "for i in range(1, rows-1):\n",
    "    for j in range(1, columns-1):\n",
    "        score = scenic_score_calculator(i, j, rows, columns)\n",
    "        if score > scenic_score:\n",
    "            scenic_score = score\n",
    "            \n",
    "scenic_score"
   ]
  }
 ],
 "metadata": {
  "kernelspec": {
   "display_name": "Python 3.9.12 ('base')",
   "language": "python",
   "name": "python3"
  },
  "language_info": {
   "codemirror_mode": {
    "name": "ipython",
    "version": 3
   },
   "file_extension": ".py",
   "mimetype": "text/x-python",
   "name": "python",
   "nbconvert_exporter": "python",
   "pygments_lexer": "ipython3",
   "version": "3.9.12"
  },
  "orig_nbformat": 4,
  "vscode": {
   "interpreter": {
    "hash": "cea1ecbc9060237308d6f43d2a8f2f7ecb9842b1b44e6cce898a5c7b51f4cadd"
   }
  }
 },
 "nbformat": 4,
 "nbformat_minor": 2
}
